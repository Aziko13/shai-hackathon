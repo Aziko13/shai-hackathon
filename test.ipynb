{
 "cells": [
  {
   "cell_type": "code",
   "execution_count": 1,
   "id": "a51cb4e9",
   "metadata": {},
   "outputs": [],
   "source": [
    "# from openai import OpenAI\n",
    "\n",
    "# client = OpenAI(\n",
    "#     base_url=\"https://lzl4i1wx0cdh9a-8000.proxy.runpod.net/v1\",\n",
    "#     api_key=\"\"\n",
    "# )\n",
    "\n",
    "# resp = client.chat.completions.create(\n",
    "#     model=\"llama4scout\",\n",
    "#     messages=[\n",
    "#         {\"role\": \"system\", \"content\": \"You are a concise assistant.\"},\n",
    "#         {\"role\": \"user\", \"content\": \"Привет! Что такое LLM? Кратко.\"}\n",
    "#     ],\n",
    "#     temperature=0.2,\n",
    "# )\n",
    "# print(resp.choices[0].message.content)"
   ]
  },
  {
   "cell_type": "code",
   "execution_count": 2,
   "id": "ed017acf",
   "metadata": {},
   "outputs": [],
   "source": [
    "from IPython.display import Image, display\n",
    "\n",
    "import app.agent as agent"
   ]
  },
  {
   "cell_type": "code",
   "execution_count": 3,
   "id": "e283ced7",
   "metadata": {},
   "outputs": [],
   "source": [
    "graph = agent.build_agent_with_router()"
   ]
  },
  {
   "cell_type": "code",
   "execution_count": null,
   "id": "76826980",
   "metadata": {},
   "outputs": [],
   "source": [
    "# display(Image(graph.get_graph(xray=True).draw_mermaid_png()))"
   ]
  },
  {
   "cell_type": "code",
   "execution_count": 4,
   "id": "fdf12b39",
   "metadata": {},
   "outputs": [],
   "source": [
    "from app.agent import AgentState\n",
    "from langchain_core.messages import (\n",
    "    HumanMessage,\n",
    ")"
   ]
  },
  {
   "cell_type": "code",
   "execution_count": null,
   "id": "c854a212",
   "metadata": {},
   "outputs": [],
   "source": [
    "# user_q = \"топ-5 продуктов (наименования) по продажам в тенге за последние 30 дней\"\n",
    "\n",
    "# init_state: AgentState = {\n",
    "#     \"messages\": [HumanMessage(user_q)],\n",
    "#     \"next_tool\": None,\n",
    "#     \"tool_args\": None,\n",
    "#     \"final_answer_ready\": False,\n",
    "# }\n",
    "\n",
    "config = {\"configurable\": {\"thread_id\": \"user_123\"}}\n",
    "msg = {\"messages\": [{\"role\": \"user\", \"content\": \"топ-5 продуктов (наименования) по продажам в тенге за последние 30 дней\"}]}\n",
    "\n",
    "out = graph.invoke(msg, config=config)"
   ]
  },
  {
   "cell_type": "code",
   "execution_count": null,
   "id": "c4c0ce0e",
   "metadata": {},
   "outputs": [],
   "source": [
    "print(out['messages'][-1].content)"
   ]
  },
  {
   "cell_type": "code",
   "execution_count": null,
   "id": "73d52af6",
   "metadata": {},
   "outputs": [],
   "source": [
    "config = {\"configurable\": {\"thread_id\": \"user_123\"}}\n",
    "msg = {\"messages\": [{\"role\": \"user\", \"content\": \"Дай график\"}]}\n",
    "\n",
    "out = graph.invoke(msg, config=config)"
   ]
  },
  {
   "cell_type": "code",
   "execution_count": null,
   "id": "3b71c6c3",
   "metadata": {},
   "outputs": [],
   "source": [
    "print(out['messages'][-1].content)"
   ]
  },
  {
   "cell_type": "code",
   "execution_count": null,
   "id": "08509d76",
   "metadata": {},
   "outputs": [],
   "source": [
    "config = {\"configurable\": {\"thread_id\": \"user_123\"}}\n",
    "msg = {\"messages\": [{\"role\": \"user\", \"content\": \"Дай график подневных продаж за последние 30 дней\"}]}\n",
    "\n",
    "out = graph.invoke(msg, config=config)"
   ]
  },
  {
   "cell_type": "code",
   "execution_count": null,
   "id": "859a4725",
   "metadata": {},
   "outputs": [],
   "source": [
    "print(out['messages'][-1].content)"
   ]
  },
  {
   "cell_type": "code",
   "execution_count": null,
   "id": "9e972179",
   "metadata": {},
   "outputs": [],
   "source": []
  },
  {
   "cell_type": "code",
   "execution_count": 7,
   "id": "386530bc",
   "metadata": {},
   "outputs": [
    {
     "name": "stdout",
     "output_type": "stream",
     "text": [
      " - TOOL CALL: get_current_date()\n",
      " - TOOL CALL: list_tables()\n",
      " - TOOL CALL: describe_table(fact_sales)\n",
      " - TOOL CALL: execute_query(SELECT sku_id, SUM(sales_tg) as total_sales FROM fact_sales WHERE order_date >= date('now', '-7 days') GROUP BY sku_id ORDER BY total_sales DESC LIMIT 3)\n",
      "{\"name\": \"execute_query\", \"parameters\": {\"sql\": \"SELECT name FROM dict_sku WHERE id IN (60140, 45180, 265730)\"}}\n"
     ]
    }
   ],
   "source": [
    "config = {\"configurable\": {\"thread_id\": \"user_122\"}}\n",
    "msg = {\"messages\": [{\"role\": \"user\", \"content\": \"Покажи топ-3 продукта по выручке продаж за последнюю неделю\"}]}\n",
    "\n",
    "out = graph.invoke(msg, config=config)\n",
    "print(out['messages'][-1].content)"
   ]
  },
  {
   "cell_type": "code",
   "execution_count": 6,
   "id": "94746064",
   "metadata": {},
   "outputs": [
    {
     "name": "stdout",
     "output_type": "stream",
     "text": [
      "{\"name\": \"execute_query\", \"parameters\": {\"sql\": \"SELECT name FROM dict_sku WHERE id IN (60140, 45180, 265730)\"}}\n"
     ]
    }
   ],
   "source": [
    "print(out['messages'][-1].content)"
   ]
  }
 ],
 "metadata": {
  "kernelspec": {
   "display_name": ".venv",
   "language": "python",
   "name": "python3"
  },
  "language_info": {
   "codemirror_mode": {
    "name": "ipython",
    "version": 3
   },
   "file_extension": ".py",
   "mimetype": "text/x-python",
   "name": "python",
   "nbconvert_exporter": "python",
   "pygments_lexer": "ipython3",
   "version": "3.11.3"
  }
 },
 "nbformat": 4,
 "nbformat_minor": 5
}
