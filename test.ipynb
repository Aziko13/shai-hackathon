{
 "cells": [
  {
   "cell_type": "code",
   "execution_count": 1,
   "id": "a51cb4e9",
   "metadata": {},
   "outputs": [],
   "source": [
    "# from openai import OpenAI\n",
    "\n",
    "# client = OpenAI(\n",
    "#     base_url=\"https://lzl4i1wx0cdh9a-8000.proxy.runpod.net/v1\",\n",
    "#     api_key=\"\"\n",
    "# )\n",
    "\n",
    "# resp = client.chat.completions.create(\n",
    "#     model=\"llama4scout\",\n",
    "#     messages=[\n",
    "#         {\"role\": \"system\", \"content\": \"You are a concise assistant.\"},\n",
    "#         {\"role\": \"user\", \"content\": \"Привет! Что такое LLM? Кратко.\"}\n",
    "#     ],\n",
    "#     temperature=0.2,\n",
    "# )\n",
    "# print(resp.choices[0].message.content)"
   ]
  },
  {
   "cell_type": "code",
   "execution_count": 2,
   "id": "ed017acf",
   "metadata": {},
   "outputs": [],
   "source": [
    "from IPython.display import Image, display\n",
    "\n",
    "import app.agent as agent"
   ]
  },
  {
   "cell_type": "code",
   "execution_count": 3,
   "id": "e283ced7",
   "metadata": {},
   "outputs": [],
   "source": [
    "graph = agent.build_agent_with_router()"
   ]
  },
  {
   "cell_type": "code",
   "execution_count": 3,
   "id": "76826980",
   "metadata": {},
   "outputs": [
    {
     "data": {
      "image/png": "[encoded data removed]",
      "text/plain": [
       "<IPython.core.display.Image object>"
      ]
     },
     "metadata": {},
     "output_type": "display_data"
    }
   ],
   "source": [
    "# display(Image(graph.get_graph(xray=True).draw_mermaid_png()))"
   ]
  },
  {
   "cell_type": "code",
   "execution_count": 4,
   "id": "fdf12b39",
   "metadata": {},
   "outputs": [],
   "source": [
    "from app.agent import AgentState\n",
    "from langchain_core.messages import (\n",
    "    HumanMessage,\n",
    ")"
   ]
  },
  {
   "cell_type": "code",
   "execution_count": 5,
   "id": "c854a212",
   "metadata": {},
   "outputs": [
    {
     "name": "stdout",
     "output_type": "stream",
     "text": [
      " - TOOL CALL: execute_query(SELECT product_name, SUM(sales_amount_tg) as total_sales FROM fact_sales WHERE order_date >= date('now', '-30 days') GROUP BY product_name ORDER BY total_sales DESC LIMIT 5)\n",
      " - TOOL CALL: list_tables()\n",
      " - TOOL CALL: describe_table(fact_sales)\n",
      " - TOOL CALL: describe_table(dict_sku)\n",
      " - TOOL CALL: execute_query(SELECT T2.sku_name, SUM(T1.sales_tg) as total_sales FROM fact_sales T1 JOIN dict_sku T2 ON T1.sku_id = T2.sku_id WHERE T1.order_date >= date('now', '-30 days') GROUP BY T2.sku_name ORDER BY total_sales DESC LIMIT 5)\n"
     ]
    }
   ],
   "source": [
    "# user_q = \"топ-5 продуктов (наименования) по продажам в тенге за последние 30 дней\"\n",
    "\n",
    "# init_state: AgentState = {\n",
    "#     \"messages\": [HumanMessage(user_q)],\n",
    "#     \"next_tool\": None,\n",
    "#     \"tool_args\": None,\n",
    "#     \"final_answer_ready\": False,\n",
    "# }\n",
    "\n",
    "config = {\"configurable\": {\"thread_id\": \"user_123\"}}\n",
    "msg = {\"messages\": [{\"role\": \"user\", \"content\": \"топ-5 продуктов (наименования) по продажам в тенге за последние 30 дней\"}]}\n",
    "\n",
    "out = graph.invoke(msg, config=config)"
   ]
  },
  {
   "cell_type": "code",
   "execution_count": 6,
   "id": "c4c0ce0e",
   "metadata": {},
   "outputs": [
    {
     "name": "stdout",
     "output_type": "stream",
     "text": [
      "Топ-5 продуктов по продажам в тенге за последние 30 дней:\n",
      "1. НАПИТОК COCA COLA 1Л П/Б - 11 717 825,00 ₸\n",
      "2. Сахар белый песок (вес) - 11 690 356,24 ₸\n",
      "3. БАТОНЧИК ШОКОЛАДНЫЙ SNICKERS SUPER 80ГР ФЛ/П - 3 604 315,00 ₸\n",
      "4. ТОМАТЫ КАЗАХСТАН КГ - 3 364 439,87 ₸\n",
      "5. БАТОНЧИК SNICKERS СУПЕРПИТАТЕЛЬНЫЙ 50,5ГР СТИК - 2 966 990,00 ₸\n"
     ]
    }
   ],
   "source": [
    "print(out['messages'][-1].content)"
   ]
  },
  {
   "cell_type": "code",
   "execution_count": 7,
   "id": "73d52af6",
   "metadata": {},
   "outputs": [
    {
     "name": "stdout",
     "output_type": "stream",
     "text": [
      " - TOOL CALL: make_simple_plot(b6f234963d2ea47e, sku_name, total_sales, Топ-5 продуктов по продажам в тенге за последние 30 дней, bar, None)\n"
     ]
    }
   ],
   "source": [
    "config = {\"configurable\": {\"thread_id\": \"user_123\"}}\n",
    "msg = {\"messages\": [{\"role\": \"user\", \"content\": \"Дай график\"}]}\n",
    "\n",
    "out = graph.invoke(msg, config=config)"
   ]
  },
  {
   "cell_type": "code",
   "execution_count": 8,
   "id": "3b71c6c3",
   "metadata": {},
   "outputs": [
    {
     "name": "stdout",
     "output_type": "stream",
     "text": [
      "Топ-5 продуктов по продажам в тенге за последние 30 дней:\n",
      "\n",
      "1. НАПИТОК COCA COLA 1Л П/Б - 11 717 825,00 ₸\n",
      "2. Сахар белый песок (вес) - 11 690 356,24 ₸\n",
      "3. БАТОНЧИК ШОКОЛАДНЫЙ SNICKERS SUPER 80ГР ФЛ/П - 3 604 315,00 ₸\n",
      "4. ТОМАТЫ КАЗАХСТАН КГ - 3 364 439,87 ₸\n",
      "5. БАТОНЧИК SNICKERS СУПЕРПИТАТЕЛЬНЫЙ 50,5ГР СТИК - 2 966 990,00 ₸\n",
      "\n",
      "Изображение графика: /Users/aziz/Documents/repos/shai-hackathon/data/plots/bar_plot_sku_name_total_sales.png\n"
     ]
    }
   ],
   "source": [
    "print(out['messages'][-1].content)"
   ]
  },
  {
   "cell_type": "code",
   "execution_count": null,
   "id": "08509d76",
   "metadata": {},
   "outputs": [],
   "source": []
  }
 ],
 "metadata": {
  "kernelspec": {
   "display_name": ".venv",
   "language": "python",
   "name": "python3"
  },
  "language_info": {
   "codemirror_mode": {
    "name": "ipython",
    "version": 3
   },
   "file_extension": ".py",
   "mimetype": "text/x-python",
   "name": "python",
   "nbconvert_exporter": "python",
   "pygments_lexer": "ipython3",
   "version": "3.11.3"
  }
 },
 "nbformat": 4,
 "nbformat_minor": 5
}
